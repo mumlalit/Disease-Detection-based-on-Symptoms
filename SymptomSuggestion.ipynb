{
  "nbformat": 4,
  "nbformat_minor": 0,
  "metadata": {
    "colab": {
      "name": "SymptomSuggestion.ipynb",
      "provenance": [],
      "collapsed_sections": []
    },
    "kernelspec": {
      "name": "python3",
      "display_name": "Python 3"
    }
  },
  "cells": [
    {
      "cell_type": "markdown",
      "metadata": {
        "id": "GpY-ArzB1rH-",
        "colab_type": "text"
      },
      "source": [
        "# **Disease Detection using Symptoms and Treatment recommendation**\n",
        "\n",
        "This notebook contains code to detect disease using the symptoms entered and selected by the user and recommends the appropriate treatments.\n"
      ]
    },
    {
      "cell_type": "code",
      "metadata": {
        "id": "jcDTmIyqctTq",
        "colab_type": "code",
        "colab": {}
      },
      "source": [
        "# Predicts diseases based on the symptoms entered and selected by the user.\n",
        "# importing all necessary libraries\n",
        "import warnings\n",
        "import numpy as np\n",
        "import pandas as pd\n",
        "from sklearn.metrics import accuracy_score, precision_recall_fscore_support\n",
        "from sklearn.model_selection import train_test_split, cross_val_score\n",
        "from statistics import mean\n",
        "from nltk.corpus import wordnet \n",
        "import requests\n",
        "from bs4 import BeautifulSoup\n",
        "from nltk.corpus import stopwords\n",
        "from nltk.stem import WordNetLemmatizer\n",
        "from nltk.tokenize import RegexpTokenizer\n",
        "from itertools import combinations\n",
        "from time import time\n",
        "from collections import Counter\n",
        "import operator\n",
        "from xgboost import XGBClassifier\n",
        "import math\n",
        "from Treatment import diseaseDetail\n",
        "from sklearn.linear_model import LogisticRegression\n",
        "\n",
        "warnings.simplefilter(\"ignore\")"
      ],
      "execution_count": 0,
      "outputs": []
    },
    {
      "cell_type": "markdown",
      "metadata": {
        "id": "Oab3lA7fj8GZ",
        "colab_type": "text"
      },
      "source": [
        "Download resources required for NLTK pre-processing"
      ]
    },
    {
      "cell_type": "code",
      "metadata": {
        "id": "rUcEIGoij4o8",
        "colab_type": "code",
        "colab": {}
      },
      "source": [
        "import nltk\n",
        "nltk.download('all')"
      ],
      "execution_count": 0,
      "outputs": []
    },
    {
      "cell_type": "markdown",
      "metadata": {
        "id": "IsuWDbumeSco",
        "colab_type": "text"
      },
      "source": [
        "**synonyms function** finds the synonymous terms of a symptom entered by the user.\n",
        "\n",
        "This is necessary as the user may use a term for a symptom which may be different from the one present in dataset.\n",
        "This improves the accuracy by reducing the wrong predictions even when symptoms for a disease are entered slightly different than the ones on which model is trained.\n",
        "\n",
        "*Synonyms are searched on Thesaurus.com and NLTK Wordnet*"
      ]
    },
    {
      "cell_type": "code",
      "metadata": {
        "id": "DhrzSJPadBwH",
        "colab_type": "code",
        "colab": {}
      },
      "source": [
        "# returns the list of synonyms of the input word from thesaurus.com (https://www.thesaurus.com/) and wordnet (https://www.nltk.org/howto/wordnet.html)\n",
        "def synonyms(term):\n",
        "    synonyms = []\n",
        "    response = requests.get('https://www.thesaurus.com/browse/{}'.format(term))\n",
        "    soup = BeautifulSoup(response.content,  \"html.parser\")\n",
        "    try:\n",
        "        container=soup.find('section', {'class': 'MainContentContainer'}) \n",
        "        row=container.find('div',{'class':'css-191l5o0-ClassicContentCard'})\n",
        "        row = row.find_all('li')\n",
        "        for x in row:\n",
        "            synonyms.append(x.get_text())\n",
        "    except:\n",
        "        None\n",
        "    for syn in wordnet.synsets(term):\n",
        "        synonyms+=syn.lemma_names()\n",
        "    return set(synonyms)"
      ],
      "execution_count": 0,
      "outputs": []
    },
    {
      "cell_type": "code",
      "metadata": {
        "id": "JwigX34ldGPl",
        "colab_type": "code",
        "colab": {}
      },
      "source": [
        "# utlities for pre-processing\n",
        "stop_words = stopwords.words('english')\n",
        "lemmatizer = WordNetLemmatizer()\n",
        "splitter = RegexpTokenizer(r'\\w+')"
      ],
      "execution_count": 0,
      "outputs": []
    },
    {
      "cell_type": "markdown",
      "metadata": {
        "id": "t1sbUx8C22zG",
        "colab_type": "text"
      },
      "source": [
        "**Disease Symptom dataset** was created in a separate python program.\n",
        "\n",
        "**Dataset scrapping** was done using **NHP website** and **wikipedia data**"
      ]
    },
    {
      "cell_type": "markdown",
      "metadata": {
        "id": "rZTXyRhNgN_O",
        "colab_type": "text"
      },
      "source": [
        "Disease Combination dataset contains the combinations for each of the disease present in dataset as practically it is often observed that it is not necessary for a person to have a disease when all the symptoms are faced by the patient or the user.\n",
        "\n",
        "*To tackle this problem, combinations are made with the symptoms for each disease.*\n",
        "\n",
        " **This increases the size of the data exponentially and helps the model to predict the disease with much better accuracy.**"
      ]
    },
    {
      "cell_type": "markdown",
      "metadata": {
        "id": "h1LSI08aiDTn",
        "colab_type": "text"
      },
      "source": [
        "*df_comb -> Dataframe consisting of dataset generated by combining symptoms for each disease.*\n",
        "\n",
        "*df_norm -> Dataframe consisting of dataset which contains a single row for each diseases with all the symptoms for that corresponding disease.*\n",
        "\n",
        "**Dataset contains 261 diseases and their symptoms**"
      ]
    },
    {
      "cell_type": "code",
      "metadata": {
        "id": "5fzGWm5NdIkN",
        "colab_type": "code",
        "colab": {}
      },
      "source": [
        "# Load Dataset scraped from NHP (https://www.nhp.gov.in/disease-a-z) & Wikipedia\n",
        "# Scrapping and creation of dataset csv is done in a separate program\n",
        "df_comb = pd.read_csv(\"/content/drive/My Drive/Python Project data/IR_Project/dis_sym_dataset_comb.csv\") # Disease combination\n",
        "df_norm = pd.read_csv(\"/content/drive/My Drive/Python Project data/IR_Project/dis_sym_dataset_norm.csv\") # Individual Disease\n",
        "\n",
        "X = df_comb.iloc[:, 1:]\n",
        "Y = df_comb.iloc[:, 0:1]"
      ],
      "execution_count": 0,
      "outputs": []
    },
    {
      "cell_type": "markdown",
      "metadata": {
        "id": "A4fuvOxOhR6v",
        "colab_type": "text"
      },
      "source": [
        "Using **Logistic Regression (LR) Classifier** as it gives better accuracy compared to other classification models as observed in the comparison of model accuracies in Model_latest.py\n",
        "\n",
        "Cross validation is done on dataset with cv = 5"
      ]
    },
    {
      "cell_type": "code",
      "metadata": {
        "id": "Njmbkf6IdKwt",
        "colab_type": "code",
        "colab": {}
      },
      "source": [
        "lr = LogisticRegression()\n",
        "lr = lr.fit(X, Y)\n",
        "scores = cross_val_score(lr, X, Y, cv=5)"
      ],
      "execution_count": 0,
      "outputs": []
    },
    {
      "cell_type": "code",
      "metadata": {
        "id": "Gvck32ifdVZV",
        "colab_type": "code",
        "colab": {}
      },
      "source": [
        "X = df_norm.iloc[:, 1:]\n",
        "Y = df_norm.iloc[:, 0:1]"
      ],
      "execution_count": 0,
      "outputs": []
    },
    {
      "cell_type": "code",
      "metadata": {
        "id": "0ppiBHtudX1O",
        "colab_type": "code",
        "colab": {}
      },
      "source": [
        "# List of symptoms\n",
        "dataset_symptoms = list(X.columns)"
      ],
      "execution_count": 0,
      "outputs": []
    },
    {
      "cell_type": "markdown",
      "metadata": {
        "id": "jNytuZen1Ij3",
        "colab_type": "text"
      },
      "source": [
        "# Symptoms initially taken from user."
      ]
    },
    {
      "cell_type": "code",
      "metadata": {
        "id": "6eRjwZhQdbxN",
        "colab_type": "code",
        "outputId": "0b698f30-810b-42f2-e47b-128564d3d6fc",
        "colab": {
          "base_uri": "https://localhost:8080/",
          "height": 50
        }
      },
      "source": [
        "# Taking symptoms from user as input \n",
        "user_symptoms = str(input(\"Please enter symptoms separated by comma(,):\\n\")).lower().split(',')\n",
        "# Preprocessing the input symptoms\n",
        "processed_user_symptoms=[]\n",
        "for sym in user_symptoms:\n",
        "    sym=sym.strip()\n",
        "    sym=sym.replace('-',' ')\n",
        "    sym=sym.replace(\"'\",'')\n",
        "    sym = ' '.join([lemmatizer.lemmatize(word) for word in splitter.tokenize(sym)])\n",
        "    processed_user_symptoms.append(sym)"
      ],
      "execution_count": 9,
      "outputs": [
        {
          "output_type": "stream",
          "text": [
            "Please enter symptoms separated by comma(,):\n",
            "coughing,pyrexia,tire,loss of smell\n"
          ],
          "name": "stdout"
        }
      ]
    },
    {
      "cell_type": "markdown",
      "metadata": {
        "id": "xCAJTUngi_V_",
        "colab_type": "text"
      },
      "source": [
        "Pre-processing on symptoms entered by user is done."
      ]
    },
    {
      "cell_type": "code",
      "metadata": {
        "id": "Pewx4v_jdcbV",
        "colab_type": "code",
        "colab": {
          "base_uri": "https://localhost:8080/",
          "height": 70
        },
        "outputId": "0e70bb1e-bd37-4f28-924e-65a2e32f20df"
      },
      "source": [
        "# Taking each user symptom and finding all its synonyms and appending it to the pre-processed symptom string\n",
        "user_symptoms = []\n",
        "for user_sym in processed_user_symptoms:\n",
        "    user_sym = user_sym.split()\n",
        "    str_sym = set()\n",
        "    for comb in range(1, len(user_sym)+1):\n",
        "        for subset in combinations(user_sym, comb):\n",
        "            subset=' '.join(subset)\n",
        "            subset = synonyms(subset) \n",
        "            str_sym.update(subset)\n",
        "    str_sym.add(' '.join(user_sym))\n",
        "    user_symptoms.append(' '.join(str_sym).replace('_',' '))\n",
        "# query expansion performed by joining synonyms found for each symptoms initially entered\n",
        "print(\"After query expansion done by using the symptoms entered\")\n",
        "print(user_symptoms)"
      ],
      "execution_count": 20,
      "outputs": [
        {
          "output_type": "stream",
          "text": [
            "After query expansion done by using the symptoms entered\n",
            "['bark expectorate hack cough coughing hem hawk clear throat vomit choke spit up convulse whoop', 'climate febricity febrility condition incalescence pyrexia warmth body heat cold feverishness heat fever thermal reading calefaction degrees', 'droop annoy bush irritate tyre nauseate deject wear overtax wilt disgust weaken drop fatigue sink play out poop out vex yawn sicken tire out collapse give out outwear flag debilitate irk distress overstrain displease go stale fag out exasperate run down sap crawl pall fail enervate overburden jade wear out fold overwork tax exhaust strain depress faint fag drain harass dispirit weary wear down wear upon dishearten wear down burn out put to sleep prostrate peter out bore grow weary tire worry wear out ennui pain', 'privation cost forfeiture harm redolence losing hurt misplacing loss of smell trail red ink going showing whiff stench failure olfactory perception like coming from out of want perdition as regards debt destitution impairment bad luck flavor attributed to expiration need departure characterized by out from containing personnel casualty detriment made from trial smack fall olfactory modality scent wreckage proceeding from bouquet depletion catastrophe in regard to related to accident belonging to savor tone smell out pertaining to defeat trace fragrance fatality tang perfume sacrifice loss debit disappearance cataclysm as concerns appropriate to smell olfactory property undoing red peculiar to passing disadvantage spirit emanation disaster death odour reek mislaying exit feeling retardation sense of smell smelling going from olfaction shrinkage odor connected with sense trouble spice squandering incense olfactory sensation deprivation bereavement misadventure consisting of calamity regarding based on dispossession mishap essence aroma appertaining to about deficiency ruin stink release in reference to referring to epithetical feel casualty injury destruction damage concerning away from look waste flavour']\n"
          ],
          "name": "stdout"
        }
      ]
    },
    {
      "cell_type": "markdown",
      "metadata": {
        "id": "7sPyVlJIjdv2",
        "colab_type": "text"
      },
      "source": [
        "The below procedure is performed in order to show the symptom synonmys found for the symptoms entered by the user.\n",
        "\n",
        "The symptom synonyms and user symptoms are matched with the symptoms present in dataset. Only the symptoms which matches the symptoms present in dataset are shown back to the user. "
      ]
    },
    {
      "cell_type": "code",
      "metadata": {
        "id": "qVnrRYXpdelN",
        "colab_type": "code",
        "colab": {}
      },
      "source": [
        "# Loop over all the symptoms in dataset and check its similarity score to the synonym string of the user-input \n",
        "# symptoms. If similarity>0.5, add the symptom to the final list\n",
        "found_symptoms = set()\n",
        "for idx, data_sym in enumerate(dataset_symptoms):\n",
        "    data_sym_split=data_sym.split()\n",
        "    for user_sym in user_symptoms:\n",
        "        count=0\n",
        "        for symp in data_sym_split:\n",
        "            if symp in user_sym.split():\n",
        "                count+=1\n",
        "        if count/len(data_sym_split)>0.5:\n",
        "            found_symptoms.add(data_sym)\n",
        "found_symptoms = list(found_symptoms)"
      ],
      "execution_count": 0,
      "outputs": []
    },
    {
      "cell_type": "markdown",
      "metadata": {
        "id": "5g0jKPRfj-dP",
        "colab_type": "text"
      },
      "source": [
        "## **Prompt the user to select the relevant symptoms by entering the corresponding indices.**"
      ]
    },
    {
      "cell_type": "code",
      "metadata": {
        "id": "piRNP4WSdiCG",
        "colab_type": "code",
        "outputId": "54c1c6fb-6c7b-4b01-c69e-fd92eed19e5d",
        "colab": {
          "base_uri": "https://localhost:8080/",
          "height": 235
        }
      },
      "source": [
        "# Print all found symptoms\n",
        "print(\"Top matching symptoms from your search!\")\n",
        "for idx, symp in enumerate(found_symptoms):\n",
        "    print(idx,\":\",symp)\n",
        "    \n",
        "# Show the related symptoms found in the dataset and ask user to select among them\n",
        "select_list = input(\"\\nPlease select the relevant symptoms. Enter indices (separated-space):\\n\").split()\n",
        "\n",
        "# Find other relevant symptoms from the dataset based on user symptoms based on the highest co-occurance with the\n",
        "# ones that is input by the user\n",
        "dis_list = set()\n",
        "final_symp = [] \n",
        "counter_list = []\n",
        "for idx in select_list:\n",
        "    symp=found_symptoms[int(idx)]\n",
        "    final_symp.append(symp)\n",
        "    dis_list.update(set(df_norm[df_norm[symp]==1]['label_dis']))\n",
        "   \n",
        "for dis in dis_list:\n",
        "    row = df_norm.loc[df_norm['label_dis'] == dis].values.tolist()\n",
        "    row[0].pop(0)\n",
        "    for idx,val in enumerate(row[0]):\n",
        "        if val!=0 and dataset_symptoms[idx] not in final_symp:\n",
        "            counter_list.append(dataset_symptoms[idx])"
      ],
      "execution_count": 12,
      "outputs": [
        {
          "output_type": "stream",
          "text": [
            "Top matching symptoms from your search!\n",
            "0 : coughing\n",
            "1 : red\n",
            "2 : feeling need urinate right away\n",
            "3 : loss smell\n",
            "4 : fatigue\n",
            "5 : trouble sensation\n",
            "6 : fever\n",
            "7 : crawl\n",
            "8 : feeling like passing\n",
            "\n",
            "Please select the relevant symptoms. Enter indices (separated-space):\n",
            "0 3 4 6\n"
          ],
          "name": "stdout"
        }
      ]
    },
    {
      "cell_type": "markdown",
      "metadata": {
        "id": "BO2mW3K4oIz9",
        "colab_type": "text"
      },
      "source": [
        "## To find symptoms which generally co-occur, for example with symptoms like cough, headache generally happens hence they co-occur."
      ]
    },
    {
      "cell_type": "code",
      "metadata": {
        "id": "pjq2q16OdlHe",
        "colab_type": "code",
        "colab": {}
      },
      "source": [
        "# Symptoms that co-occur with the ones selected by user              \n",
        "dict_symp = dict(Counter(counter_list))\n",
        "dict_symp_tup = sorted(dict_symp.items(), key=operator.itemgetter(1),reverse=True)   \n",
        "#print(dict_symp_tup) "
      ],
      "execution_count": 0,
      "outputs": []
    },
    {
      "cell_type": "markdown",
      "metadata": {
        "id": "TjmBiLuGpEfH",
        "colab_type": "text"
      },
      "source": [
        "## User is presented with a list of co-occuring symptoms to select from and is performed iteratively to recommend more possible symptoms based on the similarity to the previously entered symptoms.\n",
        "\n",
        "As the co-occuring symptoms can be in overwhelming numbers, only the top 5 are recommended to the user from which user can select the symptoms.\n",
        "\n",
        "If user does not have any of those 5 symptoms and wants to see the next 5, he can do so by giving input as -1.\n",
        "\n",
        "To stop the recommendation, user needs to give input as \"No\"."
      ]
    },
    {
      "cell_type": "code",
      "metadata": {
        "id": "neTz-oNVdn0N",
        "colab_type": "code",
        "outputId": "de4c07ac-1ef6-45ae-ab10-454cd8ea425c",
        "colab": {
          "base_uri": "https://localhost:8080/",
          "height": 470
        }
      },
      "source": [
        "# Iteratively, suggest top co-occuring symptoms to the user and ask to select the ones applicable \n",
        "found_symptoms=[]\n",
        "count=0\n",
        "for tup in dict_symp_tup:\n",
        "    count+=1\n",
        "    found_symptoms.append(tup[0])\n",
        "    if count%5==0 or count==len(dict_symp_tup):\n",
        "        print(\"\\nCommon co-occuring symptoms:\")\n",
        "        for idx,ele in enumerate(found_symptoms):\n",
        "            print(idx,\":\",ele)\n",
        "        select_list = input(\"Do you have have of these symptoms? If Yes, enter the indices (space-separated), 'no' to stop, '-1' to skip:\\n\").lower().split();\n",
        "        if select_list[0]=='no':\n",
        "            break\n",
        "        if select_list[0]=='-1':\n",
        "            found_symptoms = [] \n",
        "            continue\n",
        "        for idx in select_list:\n",
        "            final_symp.append(found_symptoms[int(idx)])\n",
        "        found_symptoms = [] "
      ],
      "execution_count": 14,
      "outputs": [
        {
          "output_type": "stream",
          "text": [
            "\n",
            "Common co-occuring symptoms:\n",
            "0 : headache\n",
            "1 : testicular pain\n",
            "2 : vomiting\n",
            "3 : sore throat\n",
            "4 : barky cough\n",
            "Do you have have of these symptoms? If Yes, enter the indices (space-separated), 'no' to stop, '-1' to skip:\n",
            "-1\n",
            "\n",
            "Common co-occuring symptoms:\n",
            "0 : maculopapular rash\n",
            "1 : confusion\n",
            "2 : diarrhea\n",
            "3 : runny nose\n",
            "4 : shortness breath\n",
            "Do you have have of these symptoms? If Yes, enter the indices (space-separated), 'no' to stop, '-1' to skip:\n",
            "4\n",
            "\n",
            "Common co-occuring symptoms:\n",
            "0 : feeling tired\n",
            "1 : swollen lymph node\n",
            "2 : unintended weight loss\n",
            "3 : chest pain\n",
            "4 : tiredness\n",
            "Do you have have of these symptoms? If Yes, enter the indices (space-separated), 'no' to stop, '-1' to skip:\n",
            "no\n"
          ],
          "name": "stdout"
        }
      ]
    },
    {
      "cell_type": "markdown",
      "metadata": {
        "id": "nI5taHc8pfY3",
        "colab_type": "text"
      },
      "source": [
        "Final Symptom list"
      ]
    },
    {
      "cell_type": "code",
      "metadata": {
        "id": "4jIiVsbBdpg-",
        "colab_type": "code",
        "outputId": "e89075cf-b4ab-484f-e10b-9a4864f54c90",
        "colab": {
          "base_uri": "https://localhost:8080/",
          "height": 134
        }
      },
      "source": [
        "# Create query vector based on symptoms selected by the user\n",
        "print(\"\\nFinal list of Symptoms that will be used for prediction:\")\n",
        "sample_x = [0 for x in range(0,len(dataset_symptoms))]\n",
        "for val in final_symp:\n",
        "    print(val)\n",
        "    sample_x[dataset_symptoms.index(val)]=1"
      ],
      "execution_count": 15,
      "outputs": [
        {
          "output_type": "stream",
          "text": [
            "\n",
            "Final list of Symptoms that will be used for prediction:\n",
            "coughing\n",
            "loss smell\n",
            "fatigue\n",
            "fever\n",
            "shortness breath\n"
          ],
          "name": "stdout"
        }
      ]
    },
    {
      "cell_type": "markdown",
      "metadata": {
        "id": "o9MbvRV_phpv",
        "colab_type": "text"
      },
      "source": [
        "Prediction of disease is done"
      ]
    },
    {
      "cell_type": "code",
      "metadata": {
        "id": "8yWRutt2drbt",
        "colab_type": "code",
        "colab": {}
      },
      "source": [
        "# Predict disease\n",
        "lr = LogisticRegression()\n",
        "lr = lr.fit(X, Y)\n",
        "prediction = lr.predict_proba([sample_x])"
      ],
      "execution_count": 0,
      "outputs": []
    },
    {
      "cell_type": "markdown",
      "metadata": {
        "id": "VpwualbypkNl",
        "colab_type": "text"
      },
      "source": [
        "Show top k diseases and their probabilities to the user.\n",
        "\n",
        "K in this case is 10"
      ]
    },
    {
      "cell_type": "code",
      "metadata": {
        "id": "bVcksjqSdt61",
        "colab_type": "code",
        "colab": {}
      },
      "source": [
        "k = 10\n",
        "diseases = list(set(Y['label_dis']))\n",
        "diseases.sort()\n",
        "topk = prediction[0].argsort()[-k:][::-1]"
      ],
      "execution_count": 0,
      "outputs": []
    },
    {
      "cell_type": "markdown",
      "metadata": {
        "id": "8_A-6Dl5qHlv",
        "colab_type": "text"
      },
      "source": [
        "# **Showing the list of top k diseases to the user with their prediction probabilities.**\n",
        "\n",
        "# **For getting information about the suggested treatments, user can enter the corresponding index to know more details.**"
      ]
    },
    {
      "cell_type": "code",
      "metadata": {
        "id": "bgoHqtPSdvYO",
        "colab_type": "code",
        "outputId": "908f5f4b-0894-480e-d9d5-e72bfe36b435",
        "colab": {
          "base_uri": "https://localhost:8080/",
          "height": 638
        }
      },
      "source": [
        "print(f\"\\nTop {k} diseases predicted based on symptoms\")\n",
        "topk_dict = {}\n",
        "# Show top 10 highly probable disease to the user.\n",
        "for idx,t in  enumerate(topk):\n",
        "    match_sym=set()\n",
        "    row = df_norm.loc[df_norm['label_dis'] == diseases[t]].values.tolist()\n",
        "    row[0].pop(0)\n",
        "\n",
        "    for idx,val in enumerate(row[0]):\n",
        "        if val!=0:\n",
        "            match_sym.add(dataset_symptoms[idx])\n",
        "    prob = (len(match_sym.intersection(set(final_symp)))+1)/(len(set(final_symp))+1)\n",
        "    prob *= mean(scores)\n",
        "    topk_dict[t] = prob\n",
        "j = 0\n",
        "topk_index_mapping = {}\n",
        "topk_sorted = dict(sorted(topk_dict.items(), key=lambda kv: kv[1], reverse=True))\n",
        "for key in topk_sorted:\n",
        "  prob = topk_sorted[key]*100\n",
        "  print(str(j) + \" Disease name:\",diseases[key], \"\\tProbability:\",str(round(prob, 2))+\"%\")\n",
        "  topk_index_mapping[j] = key\n",
        "  j += 1\n",
        "\n",
        "select = input(\"\\nMore details about the disease? Enter index of disease or '-1' to discontinue and close the system:\\n\")\n",
        "if select!='-1':\n",
        "    dis=diseases[topk_index_mapping[int(select)]]\n",
        "    print()\n",
        "    print(diseaseDetail(dis))"
      ],
      "execution_count": 19,
      "outputs": [
        {
          "output_type": "stream",
          "text": [
            "\n",
            "Top 10 diseases predicted based on symptoms\n",
            "0 Disease name: Coronavirus disease 2019 (COVID-19) \tProbability: 74.33%\n",
            "1 Disease name: Asthma \tProbability: 44.6%\n",
            "2 Disease name: Middle East respiratory syndrome coronavirus (MERS‐CoV) \tProbability: 44.6%\n",
            "3 Disease name: Legionellosis \tProbability: 44.6%\n",
            "4 Disease name: Influenza \tProbability: 44.6%\n",
            "5 Disease name: Brucellosis \tProbability: 29.73%\n",
            "6 Disease name: Chronic obstructive pulmonary disease (COPD) \tProbability: 29.73%\n",
            "7 Disease name: Neonatal Respiratory Disease Syndrome(NRDS) \tProbability: 29.73%\n",
            "8 Disease name: Coronary Heart Disease \tProbability: 29.73%\n",
            "9 Disease name: Pulmonary embolism \tProbability: 29.73%\n",
            "\n",
            "More details about the disease? Enter index of disease or '-1' to discontinue and close the system:\n",
            "0\n",
            "\n",
            "Coronavirus disease 2019 (COVID-19)\n",
            "Other names -  \n",
            "  Coronavirus \n",
            " COVID \n",
            " 2019-nCoV acute respiratory disease \n",
            " Novel coronavirus pneumonia   \n",
            " Severe pneumonia with novel pathogens    \n",
            " \n",
            "Pronunciation -          /  k  ə  ˈ  r  oʊ  n  ə  ˌ  v  aɪ  r  ə  s       d  ɪ  ˈ  z  iː  z  /      /  ˌ  k  oʊ  v  ɪ  d  n  aɪ  n  ˈ  t  iː  n  ,     ˌ  k  ɒ  v  ɪ  d  -/            \n",
            "Specialty -  Infectious disease \n",
            "Symptoms -  Fever, cough, fatigue, shortness of breath, loss of smell, sometimes no symptoms at all   \n",
            "Complications -  Pneumonia, viral sepsis, acute respiratory distress syndrome, kidney failure, cytokine release syndrome \n",
            "Usual onset -  2–14 days (typically 5) from infection \n",
            "Causes -  Severe acute respiratory syndrome coronavirus 2 (SARS-CoV-2) \n",
            "Risk factors -  Travel, viral exposure \n",
            "Diagnostic method -  rRT-PCR testing, CT scan \n",
            "Prevention -  Hand washing, face coverings, quarantine, social distancing   \n",
            "Treatment -  Symptomatic and supportive \n",
            "Frequency -  4,444,670   confirmed cases \n",
            "Deaths -  302,493 (  68% of confirmed cases)   \n",
            "\n"
          ],
          "name": "stdout"
        }
      ]
    }
  ]
}